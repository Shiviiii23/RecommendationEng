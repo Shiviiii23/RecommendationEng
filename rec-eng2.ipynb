{
 "cells": [
  {
   "cell_type": "code",
   "execution_count": 126,
   "metadata": {},
   "outputs": [],
   "source": [
    "import pandas as pd\n",
    "import numpy as np\n",
    "from sklearn.metrics.pairwise import cosine_similarity\n",
    "from sklearn.feature_extraction.text import TfidfVectorizer\n",
    "from sklearn.feature_extraction.text import CountVectorizer"
   ]
  },
  {
   "cell_type": "code",
   "execution_count": 127,
   "metadata": {},
   "outputs": [],
   "source": [
    "metadata = pd.read_csv('workdata.csv', sep = ',',error_bad_lines=False,\n",
    "                       encoding = 'latin-1')\n",
    "metadata.columns = ['work_id', 'title', 'synopsis', 'views']\n"
   ]
  },
  {
   "cell_type": "code",
   "execution_count": 128,
   "metadata": {},
   "outputs": [],
   "source": [
    "tfidf = TfidfVectorizer(stop_words='english')\n",
    "metadata['synopsis'] = metadata['synopsis'].fillna('')\n",
    "#makes a bunch of vectors based off of \n",
    "#synopsis of each book\n",
    "#we need to take in user data and create an average\n",
    "#vector of all the books the user read in the past\n",
    "mtrx = tfidf.fit_transform(metadata['synopsis'])\n",
    "\n",
    "                                  \n",
    "from sklearn.metrics.pairwise import linear_kernel\n",
    "cosine = linear_kernel(mtrx, mtrx)\n",
    "\n",
    "\n"
   ]
  },
  {
   "cell_type": "code",
   "execution_count": 136,
   "metadata": {},
   "outputs": [
    {
     "name": "stdout",
     "output_type": "stream",
     "text": [
      "0     Father and son close distance with a lakeside ...\n",
      "1     Two chapters from a collection of essays about...\n",
      "2     Yalie Trash is the story of David and how he n...\n",
      "3     A preview chapter for a novel Iâm working on...\n",
      "4     Isn't it funny we're the ones who dream?\" // \"...\n",
      "5     A woman recounts her story of surviving a huma...\n",
      "6     A half-demon explores the land of the Fae to r...\n",
      "7     Elliot must deal with visions of an apocalypti...\n",
      "8     The only known fact about enigma is they latch...\n",
      "9     When horrid truths come into light, his only s...\n",
      "10    When the world is full of zombies you have to ...\n",
      "11    Taothule is a land defined by its divisions. C...\n",
      "12    A woman who loves the stars meets someone who ...\n",
      "13    Roman is a young opera singer trying to reclai...\n",
      "14       An excerpt from a longer piece I am working on\n",
      "15    A short piece that explores memory and trauma ...\n",
      "16    An impromptu traveling company are followed al...\n",
      "17    Naveena's determined to start off her final ye...\n",
      "18    Bascoâs a poor teen who dreams of helping th...\n",
      "19    A witch has an unexpected visitor [they/them] ...\n",
      "20    It's sad when someone tries to befriend the se...\n",
      "21    Parade Franklin hasn't heard her actual name s...\n",
      "22    An assassin with a troubled past has to face h...\n",
      "23    Flash fiction - Grandmother and granddaughter ...\n",
      "24                                    A Poem about Fear\n",
      "25    Jade Edwards lives a normal life, aside from t...\n",
      "26                  Poem about fear and losing a friend\n",
      "27    A man performs a ritual. A boy watches. A sold...\n",
      "28    This is a one-shot that was inspired by A Stre...\n",
      "29                A test story posted by our developers\n",
      "30    Everyone has an ability. Something intimately ...\n",
      "31    Society is in levels, A, B, C, D and E. Only t...\n",
      "32    Join Richard 'The Bear' as he attempts to resc...\n",
      "33       This old nightclub is more than meets the eye.\n",
      "34    A woman seeks out an ancient being that can gr...\n",
      "35    Surprise! Karen lost her job. And maybe, just ...\n",
      "36    A woman finds herself in a world unlike her ow...\n",
      "37    Mother-daughter dynamics expose differences in...\n",
      "38    A daughter and a mute mother come to terms wit...\n",
      "39    A story about the beauty of love, and the ways...\n",
      "40    Everything's better when you're with someone y...\n",
      "41    A student sits in an entrepreneurship class, c...\n",
      "42                                       This is a test\n",
      "43    The Duchess gives birth. A pattern of mischief...\n",
      "44                                                 Test\n",
      "45    A man is on a mission to do something right fo...\n",
      "46    Trouble ensues when a woman's husband takes he...\n",
      "47    Non-Fiction Travel story focused on place--a p...\n",
      "48    A Russian hydrologists finds an unwelcome adve...\n",
      "49    A young accountant's attempt to blackmail his ...\n",
      "50                                Her name is Ayn Rand.\n",
      "51          Caspian is the only hope for the Ten Realms\n",
      "52    A few young Adventure Rangers enjoy their last...\n",
      "Name: synopsis, dtype: object\n"
     ]
    }
   ],
   "source": [
    "tfidf = TfidfVectorizer(stop_words='english')\n",
    "\n",
    "metadata['synopsis'] =  metadata['synopsis'].fillna('')\n",
    "print(metadata['synopsis'])\n",
    "#makes a bunch of vectors based off of \n",
    "#synopsis of each book\n",
    "#we need to take in user data and create an average\n",
    "#vector of all the books the user read in the past\n",
    "mtrx = tfidf.fit_transform(metadata['synopsis'])\n",
    "\n",
    "from sklearn.metrics.pairwise import linear_kernel\n",
    "cosine = linear_kernel(mtrx, mtrx)"
   ]
  },
  {
   "cell_type": "code",
   "execution_count": 163,
   "metadata": {},
   "outputs": [
    {
     "ename": "AttributeError",
     "evalue": "'numpy.ndarray' object has no attribute 'columns'",
     "output_type": "error",
     "traceback": [
      "\u001b[0;31m---------------------------------------------------------------------------\u001b[0m",
      "\u001b[0;31mAttributeError\u001b[0m                            Traceback (most recent call last)",
      "\u001b[0;32m<ipython-input-163-cf127a0e6893>\u001b[0m in \u001b[0;36m<module>\u001b[0;34m\u001b[0m\n\u001b[1;32m     12\u001b[0m \u001b[0;31m#     for y in x:\u001b[0m\u001b[0;34m\u001b[0m\u001b[0;34m\u001b[0m\u001b[0;34m\u001b[0m\u001b[0m\n\u001b[1;32m     13\u001b[0m \u001b[0;31m#         print(y)\u001b[0m\u001b[0;34m\u001b[0m\u001b[0;34m\u001b[0m\u001b[0;34m\u001b[0m\u001b[0m\n\u001b[0;32m---> 14\u001b[0;31m \u001b[0mnew_df\u001b[0m \u001b[0;34m=\u001b[0m \u001b[0mpd\u001b[0m\u001b[0;34m.\u001b[0m\u001b[0mDataFrame\u001b[0m\u001b[0;34m(\u001b[0m\u001b[0mscr\u001b[0m\u001b[0;34m,\u001b[0m \u001b[0mcolumns\u001b[0m\u001b[0;34m=\u001b[0m\u001b[0mscr\u001b[0m\u001b[0;34m.\u001b[0m\u001b[0mcolumns\u001b[0m\u001b[0;34m,\u001b[0m \u001b[0mindex\u001b[0m\u001b[0;34m=\u001b[0m\u001b[0mscr\u001b[0m\u001b[0;34m.\u001b[0m\u001b[0mindex\u001b[0m\u001b[0;34m)\u001b[0m\u001b[0;34m\u001b[0m\u001b[0;34m\u001b[0m\u001b[0m\n\u001b[0m\u001b[1;32m     15\u001b[0m \u001b[0;31m# scr.drop(user_likes)\u001b[0m\u001b[0;34m\u001b[0m\u001b[0;34m\u001b[0m\u001b[0;34m\u001b[0m\u001b[0m\n",
      "\u001b[0;31mAttributeError\u001b[0m: 'numpy.ndarray' object has no attribute 'columns'"
     ]
    }
   ],
   "source": [
    "user_data = pd.read_csv('testdata.csv', sep = ',',error_bad_lines=False,\n",
    "                       encoding = 'latin-1')\n",
    "\n",
    "user_data.columns = ['reader_id', 'position', 'work_id', 'title', 'synopsis']\n",
    "id = 7\n",
    "user_index = user_data[user_data.reader_id == id].index.tolist()\n",
    "user_likes = metadata.loc[user_index]\n",
    "usrmtrx = tfidf.fit_transform(user_likes['synopsis'])\n",
    "scr = cosine.dot(usrmtrx)\n",
    "# for x in scr:\n",
    "#     print(' ')\n",
    "#     for y in x:\n",
    "#         print(y)\n",
    "new_df = pd.DataFrame(scr, columns=scr.columns, index=scr.index)\n",
    "# scr.drop(user_likes)\n"
   ]
  },
  {
   "cell_type": "code",
   "execution_count": 28,
   "metadata": {},
   "outputs": [],
   "source": [
    "def get_recommendations(num, cosine=cosine):\n",
    "    # Get the index of the movie that matches the title\n",
    "    idx = num\n",
    "\n",
    "    # Get the pairwsie similarity scores of all movies with that movie\n",
    "    sim_scores = list(enumerate(cosine[idx]))\n",
    "    print(sim_scores)\n",
    "    # Sort the movies based on the similarity scores\n",
    "    sim_scores = sorted(sim_scores, key=lambda x: x[1], reverse=True)\n",
    "\n",
    "    # Get the scores of the 10 most similar movies\n",
    "    sim_scores = sim_scores[1:11]\n",
    "\n",
    "    # Get the movie indices\n",
    "    movie_indices = [i[0] for i in sim_scores]\n",
    "\n",
    "    # Return the top 10 most similar movies\n",
    "    return metadata['title'].iloc[movie_indices]"
   ]
  },
  {
   "cell_type": "code",
   "execution_count": 29,
   "metadata": {},
   "outputs": [
    {
     "name": "stdout",
     "output_type": "stream",
     "text": [
      "[(0, 0.0), (1, 0.0), (2, 0.0), (3, 0.0), (4, 0.0), (5, 0.0), (6, 0.9999999999999997), (7, 0.0), (8, 0.0), (9, 0.0), (10, 0.0), (11, 0.10200850618832648), (12, 0.0), (13, 0.0), (14, 0.0), (15, 0.10094117901307656), (16, 0.0), (17, 0.0), (18, 0.0), (19, 0.0), (20, 0.0), (21, 0.0), (22, 0.0), (23, 0.0), (24, 0.0), (25, 0.0), (26, 0.0), (27, 0.0), (28, 0.0), (29, 0.0), (30, 0.0), (31, 0.0), (32, 0.0), (33, 0.0), (34, 0.0), (35, 0.0), (36, 0.0), (37, 0.0), (38, 0.0), (39, 0.0), (40, 0.0), (41, 0.0), (42, 0.0), (43, 0.0), (44, 0.0), (45, 0.0), (46, 0.0), (47, 0.0), (48, 0.0), (49, 0.0), (50, 0.0), (51, 0.0), (52, 0.0)]\n"
     ]
    },
    {
     "data": {
      "text/plain": [
       "11                The Tale of Taothule\n",
       "15                  Starting to Forget\n",
       "0                            Town Lake\n",
       "1                              Rodents\n",
       "2                          Yalie Trash\n",
       "3            Harmony (preview chapter)\n",
       "4     The Ones Who Dream - first draft\n",
       "5                        Breaking Eden\n",
       "7              Canary Song - Chapter 1\n",
       "8                       Golden Threads\n",
       "Name: title, dtype: object"
      ]
     },
     "execution_count": 29,
     "metadata": {},
     "output_type": "execute_result"
    }
   ],
   "source": [
    "\n",
    "get_recommendations(6)\n",
    "\n",
    "# #get cosine similarity\n",
    "# from sklearn.metrics.pairwise import linear_kernel\n",
    "# #not the matrix we want, tho, this matrix gives similarities\n",
    "# #between movies\n",
    "# #we want to average all vector values\n",
    "# similarity = linear_kernel(mtrx, mtrx)"
   ]
  }
 ],
 "metadata": {
  "kernelspec": {
   "display_name": "Python 3",
   "language": "python",
   "name": "python3"
  },
  "language_info": {
   "codemirror_mode": {
    "name": "ipython",
    "version": 3
   },
   "file_extension": ".py",
   "mimetype": "text/x-python",
   "name": "python",
   "nbconvert_exporter": "python",
   "pygments_lexer": "ipython3",
   "version": "3.7.1"
  }
 },
 "nbformat": 4,
 "nbformat_minor": 2
}
